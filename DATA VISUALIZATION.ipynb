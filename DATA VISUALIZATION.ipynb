{
 "cells": [
  {
   "cell_type": "markdown",
   "id": "553ae351",
   "metadata": {},
   "source": [
    "# Why Data Visualization"
   ]
  },
  {
   "cell_type": "markdown",
   "id": "ae84154a",
   "metadata": {},
   "source": [
    "Data visualization is a method to introduce the information in pictorial or graphical format"
   ]
  },
  {
   "cell_type": "markdown",
   "id": "7de12070",
   "metadata": {},
   "source": [
    "## advantage of Data visualization"
   ]
  },
  {
   "cell_type": "markdown",
   "id": "83b41d86",
   "metadata": {},
   "source": [
    "Simplify statistics\n",
    "\n",
    "Easy to understand\n",
    "\n",
    "Hidden Patterns\n",
    "\n",
    "Makes an impact"
   ]
  },
  {
   "cell_type": "markdown",
   "id": "71e3cc6a",
   "metadata": {},
   "source": [
    "# What is Matplotlib"
   ]
  },
  {
   "cell_type": "markdown",
   "id": "ff487bfc",
   "metadata": {},
   "source": [
    "Matplotlib is an amazing visualization library in Python for 2D plots of arrays. Matplotlib is a multi-platform data visualization library built on NumPy arrays and designed to work with the broader SciPy stack"
   ]
  },
  {
   "cell_type": "markdown",
   "id": "8df05d36",
   "metadata": {},
   "source": [
    "## MOST USED PLOTS FOR BASIC ANALYSIS"
   ]
  },
  {
   "cell_type": "markdown",
   "id": "aa0c0945",
   "metadata": {},
   "source": [
    "### Uni - variate - histogram,countplot,Pie-chart"
   ]
  },
  {
   "cell_type": "markdown",
   "id": "34cc2448",
   "metadata": {},
   "source": [
    "Is used to understand the single column"
   ]
  },
  {
   "cell_type": "markdown",
   "id": "524e3df8",
   "metadata": {},
   "source": [
    "### BI-Variate - Scatterplot,Box-plot,Heatmap"
   ]
  },
  {
   "cell_type": "markdown",
   "id": "1f69bb9e",
   "metadata": {},
   "source": [
    "Is used to understand the data between two columns"
   ]
  },
  {
   "cell_type": "markdown",
   "id": "35ac7a20",
   "metadata": {},
   "source": [
    "### Multi-variate - Line-plot,Bar-plot"
   ]
  },
  {
   "cell_type": "markdown",
   "id": "57efbe48",
   "metadata": {},
   "source": [
    "Is used to understand the data for more or between multiple columns"
   ]
  },
  {
   "cell_type": "markdown",
   "id": "4f7ce40a",
   "metadata": {},
   "source": [
    "# Different types of plot"
   ]
  },
  {
   "cell_type": "markdown",
   "id": "ab467869",
   "metadata": {},
   "source": [
    "## Line plot"
   ]
  },
  {
   "cell_type": "markdown",
   "id": "02ce8419",
   "metadata": {},
   "source": [
    "for line plot we require data type to be in time series format.\n",
    "\n",
    "ex : stockmarket\n",
    "\n",
    "to understand trend,cycle,season of pattern    "
   ]
  },
  {
   "cell_type": "markdown",
   "id": "aa9eeb5b",
   "metadata": {},
   "source": [
    "## Pie Chart"
   ]
  },
  {
   "cell_type": "markdown",
   "id": "5375b1cf",
   "metadata": {},
   "source": [
    "A type of chart where circle is divided into sectors that each represents portion of whole\n",
    "\n",
    "Type of data is required discrete or continuous \n",
    "\n",
    "It is used to understand percentage comparison"
   ]
  },
  {
   "cell_type": "markdown",
   "id": "76fbb265",
   "metadata": {},
   "source": [
    "## HistoGram"
   ]
  },
  {
   "cell_type": "markdown",
   "id": "a27911e2",
   "metadata": {},
   "source": [
    "graphical representation of the frequency distribution of data in bar form\n",
    "\n",
    "Type of data is required continues data\n",
    "\n",
    "  "
   ]
  },
  {
   "cell_type": "markdown",
   "id": "c1be1b31",
   "metadata": {},
   "source": [
    "## Scatterplot"
   ]
  },
  {
   "cell_type": "markdown",
   "id": "5bb036cd",
   "metadata": {},
   "source": [
    "Scatterplot is one of the best plot to find the relationship between two numerical variable\n",
    "\n",
    "Type of data required is continuous vs continuous\n",
    "\n",
    "Shows the correlation between variables, shows the min/max and outlier in dataset"
   ]
  },
  {
   "cell_type": "markdown",
   "id": "b18fb2e3",
   "metadata": {},
   "source": [
    "# Box plot"
   ]
  },
  {
   "cell_type": "markdown",
   "id": "68f8193b",
   "metadata": {},
   "source": [
    "A box plot is a standardized way of displaying the distribution of data based\n",
    "\n",
    "Type of data required is continuous vs continuous and discrete vs continuous\n",
    "\n",
    "To understand distribution and to check outliers"
   ]
  },
  {
   "cell_type": "markdown",
   "id": "7dd6e161",
   "metadata": {},
   "source": [
    "# Bar Plot"
   ]
  },
  {
   "cell_type": "markdown",
   "id": "171f3e05",
   "metadata": {},
   "source": [
    "To compare one over the another\n",
    "\n",
    "Type of data required discrete vs continuous\n"
   ]
  },
  {
   "cell_type": "markdown",
   "id": "79b84710",
   "metadata": {},
   "source": [
    "# Count Plot"
   ]
  },
  {
   "cell_type": "code",
   "execution_count": null,
   "id": "82e02d9c",
   "metadata": {},
   "outputs": [],
   "source": [
    "Type of data required discrete\n",
    "\n",
    "        "
   ]
  }
 ],
 "metadata": {
  "kernelspec": {
   "display_name": "Python 3",
   "language": "python",
   "name": "python3"
  },
  "language_info": {
   "codemirror_mode": {
    "name": "ipython",
    "version": 3
   },
   "file_extension": ".py",
   "mimetype": "text/x-python",
   "name": "python",
   "nbconvert_exporter": "python",
   "pygments_lexer": "ipython3",
   "version": "3.8.8"
  },
  "toc": {
   "base_numbering": 1,
   "nav_menu": {},
   "number_sections": true,
   "sideBar": true,
   "skip_h1_title": false,
   "title_cell": "Table of Contents",
   "title_sidebar": "Contents",
   "toc_cell": false,
   "toc_position": {},
   "toc_section_display": true,
   "toc_window_display": false
  }
 },
 "nbformat": 4,
 "nbformat_minor": 5
}
